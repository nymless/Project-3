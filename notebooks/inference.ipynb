{
 "cells": [
  {
   "cell_type": "markdown",
   "metadata": {},
   "source": [
    "# Тут пока только модель как есть, без дообучения"
   ]
  },
  {
   "cell_type": "code",
   "execution_count": 1,
   "metadata": {},
   "outputs": [],
   "source": [
    "import os\n",
    "\n",
    "import torch\n",
    "from dotenv import load_dotenv\n",
    "from transformers import AutoModelForCausalLM, AutoTokenizer"
   ]
  },
  {
   "cell_type": "code",
   "execution_count": 2,
   "metadata": {},
   "outputs": [
    {
     "data": {
      "text/plain": [
       "device(type='cuda')"
      ]
     },
     "execution_count": 2,
     "metadata": {},
     "output_type": "execute_result"
    }
   ],
   "source": [
    "# Загрузка переменных из .env файла\n",
    "load_dotenv()\n",
    "# Чтение токена\n",
    "token = os.getenv(\"HUGGING_FACE_ACCESS_TOKEN\")\n",
    "# Устройство для тензорных вычислений и хранения модели в памяти.\n",
    "device = torch.device(\"cuda\" if torch.cuda.is_available() else \"cpu\")\n",
    "device"
   ]
  },
  {
   "cell_type": "code",
   "execution_count": null,
   "metadata": {},
   "outputs": [
    {
     "data": {
      "application/vnd.jupyter.widget-view+json": {
       "model_id": "a2e91191dfb2406ba7b32f7072c8ace5",
       "version_major": 2,
       "version_minor": 0
      },
      "text/plain": [
       "Loading checkpoint shards:   0%|          | 0/3 [00:00<?, ?it/s]"
      ]
     },
     "metadata": {},
     "output_type": "display_data"
    }
   ],
   "source": [
    "model_id = \"google/gemma-2-2b\"\n",
    "# model_id = \"google/gemma-2-2b-it\"  # Instructed версия для структурированных запросов модели\n",
    "tokenizer = AutoTokenizer.from_pretrained(model_id, token=token)\n",
    "model = AutoModelForCausalLM.from_pretrained(\n",
    "    model_id, torch_dtype=torch.bfloat16, device_map=\"auto\", token=token\n",
    ")"
   ]
  },
  {
   "cell_type": "code",
   "execution_count": 4,
   "metadata": {},
   "outputs": [],
   "source": [
    "# Запрос для модели\n",
    "text = \"Примерный текст короткого отзыва на 500 символов о жилом комплексе на русском языке: \"\n",
    "\n",
    "# Параметры генерации текста\n",
    "generation_config = {\n",
    "    \"max_new_tokens\": 200,\n",
    "    \"pad_token_id\": tokenizer.eos_token_id,\n",
    "    \"do_sample\": True,\n",
    "    \"num_beams\": 1,\n",
    "}"
   ]
  },
  {
   "cell_type": "code",
   "execution_count": null,
   "metadata": {},
   "outputs": [
    {
     "name": "stdout",
     "output_type": "stream",
     "text": [
      "Примерный текст короткого отзыва на 500 символов о жилом комплексе на русском языке: ⭐⭐⭐⭐⭐⭐⭐⭐⭐⭐ Это уникальный жилой комплекс, который поражает своей продуманностью и совершенством. Это воплощение идеального образа городской жизни через инновационные технологии и архитектурные решения. Это место, где каждый день полна активных переживаний и радости. Комплекс расположен в самом центре города для любителей яркого городской жизни: это просторные студии с захватывающим видом на город или потрясающе уютные люкс-квартиры с благоустроенной и защищенной территорией. Изначально мы планировали оставить этот жилой комплекс, чтобы пожить там. Но он оказался слишком дорогим, и мы не смогли справиться с его ценовой политикой. Тем не менее, мы решили остаться. Оказалось, что это лучшее решение, так как комплекс полностью нас устроил.\n"
     ]
    }
   ],
   "source": [
    "# Векторизация текста\n",
    "inputs = tokenizer(text, return_tensors=\"pt\").to(device)\n",
    "# Генерация текста\n",
    "outputs = model.generate(**inputs, **generation_config)\n",
    "print(tokenizer.decode(outputs[0], skip_special_tokens=True))"
   ]
  }
 ],
 "metadata": {
  "kernelspec": {
   "display_name": "venv",
   "language": "python",
   "name": "python3"
  },
  "language_info": {
   "codemirror_mode": {
    "name": "ipython",
    "version": 3
   },
   "file_extension": ".py",
   "mimetype": "text/x-python",
   "name": "python",
   "nbconvert_exporter": "python",
   "pygments_lexer": "ipython3",
   "version": "3.12.1"
  }
 },
 "nbformat": 4,
 "nbformat_minor": 2
}
