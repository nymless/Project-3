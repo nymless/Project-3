{
 "cells": [
  {
   "cell_type": "markdown",
   "metadata": {},
   "source": [
    "# Дообучение модели Gemma-2-2b"
   ]
  },
  {
   "cell_type": "markdown",
   "metadata": {},
   "source": [
    "* Дообучим предобученную большую языковую модель `Gemma-2-2b` от компании `Google`.\n",
    "* Модель `Gemma-2-2b` построена на улучшенной архитектуре GPT и имеет 2 млрд параметров. Ссылка на модель: <https://huggingface.co/google/gemma-2-2b>\n",
    "* Для обучения используем библиотеку `transformers` от `Hugging Face` и `PyTorch` в качестве backend.\n",
    "* Ссылка на данные: <https://github.com/yandex/geo-reviews-dataset-2023>"
   ]
  },
  {
   "cell_type": "markdown",
   "metadata": {},
   "source": [
    "## Импорты"
   ]
  },
  {
   "cell_type": "code",
   "execution_count": 1,
   "metadata": {},
   "outputs": [],
   "source": [
    "import os\n",
    "import random\n",
    "import warnings\n",
    "from datetime import datetime\n",
    "\n",
    "import matplotlib.pyplot as plt\n",
    "import mlflow\n",
    "import numpy as np\n",
    "import pandas as pd\n",
    "import seaborn as sns\n",
    "import torch\n",
    "from datasets import Dataset\n",
    "from dotenv import load_dotenv\n",
    "from huggingface_hub import login\n",
    "from peft import LoraConfig, get_peft_model\n",
    "from transformers import (AutoModelForCausalLM, AutoTokenizer,\n",
    "                          DataCollatorForLanguageModeling,\n",
    "                          EarlyStoppingCallback, Trainer, TrainingArguments)"
   ]
  },
  {
   "cell_type": "markdown",
   "metadata": {},
   "source": [
    "## Настройки"
   ]
  },
  {
   "cell_type": "code",
   "execution_count": 2,
   "metadata": {},
   "outputs": [
    {
     "data": {
      "text/plain": [
       "device(type='cuda')"
      ]
     },
     "execution_count": 2,
     "metadata": {},
     "output_type": "execute_result"
    }
   ],
   "source": [
    "def seed_all(seed):\n",
    "    torch.manual_seed(seed)\n",
    "    torch.cuda.manual_seed(seed)\n",
    "    torch.cuda.manual_seed_all(seed)\n",
    "    torch.backends.cudnn.deterministic = True\n",
    "    torch.backends.cudnn.benchmark = False\n",
    "    random.seed(seed)\n",
    "\n",
    "# Для повторяемости результатов\n",
    "SEED = 42\n",
    "seed_all(SEED)\n",
    "# Загрузка переменных из .env файла\n",
    "load_dotenv()\n",
    "# Чтение токена\n",
    "token = os.getenv(\"HUGGING_FACE_ACCESS_TOKEN\")\n",
    "# Авторизация в Hugging Face\n",
    "login(token)\n",
    "# Отключим вывод предупреждений\n",
    "warnings.filterwarnings('ignore')\n",
    "# Устройство для тензорных вычислений и хранения модели в памяти.\n",
    "device = torch.device(\"cuda\" if torch.cuda.is_available() else \"cpu\")\n",
    "device"
   ]
  },
  {
   "cell_type": "markdown",
   "metadata": {},
   "source": [
    "## Загрузка модели"
   ]
  },
  {
   "cell_type": "markdown",
   "metadata": {},
   "source": [
    "* Используем `FP16` - половинную точность (half-precision) для весов модели. Это позволяет экономить память GPU без существенного снижения качества обучения модели."
   ]
  },
  {
   "cell_type": "code",
   "execution_count": 3,
   "metadata": {},
   "outputs": [
    {
     "data": {
      "application/vnd.jupyter.widget-view+json": {
       "model_id": "26e2db7519b9497b8147def372456bd0",
       "version_major": 2,
       "version_minor": 0
      },
      "text/plain": [
       "Loading checkpoint shards:   0%|          | 0/3 [00:00<?, ?it/s]"
      ]
     },
     "metadata": {},
     "output_type": "display_data"
    }
   ],
   "source": [
    "model_name = \"google/gemma-2-2b\"\n",
    "tokenizer = AutoTokenizer.from_pretrained(model_name, token=token)\n",
    "model = AutoModelForCausalLM.from_pretrained(\n",
    "    model_name,\n",
    "    torch_dtype=torch.float16,  # Половинная точность\n",
    "    token=token,\n",
    ")\n",
    "model = model.to(device)"
   ]
  },
  {
   "cell_type": "markdown",
   "metadata": {},
   "source": [
    "## Дообучение LoRA"
   ]
  },
  {
   "cell_type": "markdown",
   "metadata": {},
   "source": [
    "`LoRA` (Low-Rank Adaptation of Large Language Models) - метод, который позволяет значительно сократить сложность и время дообучения больших языковых моделей  (LLM), за счёт заморозки матрицы весов. Вместо неё создаются и обучаются две малые матрицы весов низкой размерности. Итоговый результат получается сложением выходов новых матриц и замороженной матрицы. \n",
    "\n",
    "Метод основан на гипотезе, что для задачи дообучения LLM большинство параметров являются избыточными. Говорят, что при дообучении, LLM имеет низкий внутренний ранг (intrinsic rank)."
   ]
  },
  {
   "cell_type": "markdown",
   "metadata": {},
   "source": [
    "Количество обучаемых параметров до применения LoRA."
   ]
  },
  {
   "cell_type": "code",
   "execution_count": 4,
   "metadata": {},
   "outputs": [
    {
     "name": "stdout",
     "output_type": "stream",
     "text": [
      "Параметров: 2 614 341 888\n",
      "Обучаемых параметров: 2 614 341 888\n"
     ]
    }
   ],
   "source": [
    "def count_params(model):\n",
    "    def pretty_number(num):\n",
    "        return \"{:,}\".format(num).replace(\",\", \" \")\n",
    "\n",
    "    all_params = sum(p.numel() for p in model.parameters())\n",
    "    grad_params = sum(p.numel() for p in model.parameters() if p.requires_grad)\n",
    "    print(\"Параметров:\", pretty_number(all_params))\n",
    "    print(\"Обучаемых параметров:\", pretty_number(grad_params))\n",
    "\n",
    "count_params(model)"
   ]
  },
  {
   "cell_type": "markdown",
   "metadata": {},
   "source": [
    "Применим LoRA к модели."
   ]
  },
  {
   "cell_type": "code",
   "execution_count": 5,
   "metadata": {},
   "outputs": [],
   "source": [
    "LORA_RANK = 6  # Ранг матриц LoRA\n",
    "\n",
    "# Настройки LoRA\n",
    "lora_config = LoraConfig(\n",
    "    r=LORA_RANK,  # Ранг малых матриц, веса которых мы будем обучать\n",
    "    lora_alpha=LORA_RANK,  # (alpha / r) - множитель для выходов малых обучаемых матриц\n",
    "    lora_dropout=0.1,  # Dropout регуляризация для малых обучаемых матриц\n",
    "    bias=\"none\",\n",
    "    task_type=\"CAUSAL_LM\",\n",
    ")\n",
    "model = get_peft_model(model, lora_config)"
   ]
  },
  {
   "cell_type": "markdown",
   "metadata": {},
   "source": [
    "Примечание:\n",
    "\n",
    "* В данном ноутбуке используем небольшое значение ранга матриц LoRA, т.к. есть ограничения в размере GPU памяти.\n",
    "* При обучении финальной версии модели можно немного увеличить значение."
   ]
  },
  {
   "cell_type": "markdown",
   "metadata": {},
   "source": [
    "Количество обучаемых параметров после применения LoRA."
   ]
  },
  {
   "cell_type": "code",
   "execution_count": 6,
   "metadata": {},
   "outputs": [
    {
     "name": "stdout",
     "output_type": "stream",
     "text": [
      "Параметров: 2 615 539 968\n",
      "Обучаемых параметров: 1 198 080\n"
     ]
    }
   ],
   "source": [
    "count_params(model)"
   ]
  },
  {
   "cell_type": "markdown",
   "metadata": {},
   "source": [
    "Видим, что общее количество весов модели выросло, как раз на количество обучаемых весов.\n",
    "\n",
    "Примечание:\n",
    "\n",
    "* Хотя мы обучаем всего около 1,2 млн параметров с помощью LoRA, скорость обучения будет примерно такой же, как если бы мы обучали модель с 200 млн параметров без LoRA. Это происходит потому, что на этапе прямого хода всё равно требуется использовать все 2,6 млрд параметров базовой модели для вычисления выходов, и только на этапе обратного распространения ошибки начинает работать оптимизация LoRA."
   ]
  },
  {
   "cell_type": "markdown",
   "metadata": {},
   "source": [
    "## Очистка данных"
   ]
  },
  {
   "cell_type": "markdown",
   "metadata": {},
   "source": [
    "Очистим данные и создадим датасет."
   ]
  },
  {
   "cell_type": "code",
   "execution_count": 7,
   "metadata": {},
   "outputs": [
    {
     "data": {
      "text/plain": [
       "Dataset({\n",
       "    features: ['address', 'name_ru', 'rating', 'rubrics', 'text'],\n",
       "    num_rows: 499799\n",
       "})"
      ]
     },
     "execution_count": 7,
     "metadata": {},
     "output_type": "execute_result"
    }
   ],
   "source": [
    "df = pd.read_csv(\"../data/prepared/data.csv\")\n",
    "df[\"name_ru\"] = df[\"name_ru\"].fillna(\"\")\n",
    "df[\"text\"] = df[\"text\"].str.replace(\"\\\\n\", \" \")\n",
    "df = df.drop_duplicates(ignore_index=True)\n",
    "\n",
    "dataset = Dataset.from_pandas(df)\n",
    "dataset"
   ]
  },
  {
   "cell_type": "markdown",
   "metadata": {},
   "source": [
    "## Формируем входной текст"
   ]
  },
  {
   "cell_type": "markdown",
   "metadata": {},
   "source": [
    "* При формировании входного текста, добавим в конец токен `<eos>` (End of sequence). Это поможет модели на этапе инференса «понять», когда нужно остановиться и не испортить сгенерированный отзыв, продолжая текст.\n",
    "* Токенизируем все входные тексты и сохраним их длины в датасет для дальнейшего анализа."
   ]
  },
  {
   "cell_type": "code",
   "execution_count": 8,
   "metadata": {},
   "outputs": [
    {
     "data": {
      "application/vnd.jupyter.widget-view+json": {
       "model_id": "a0134223282b4750a90c7294af0967c2",
       "version_major": 2,
       "version_minor": 0
      },
      "text/plain": [
       "Map:   0%|          | 0/499799 [00:00<?, ? examples/s]"
      ]
     },
     "metadata": {},
     "output_type": "display_data"
    },
    {
     "data": {
      "text/plain": [
       "Dataset({\n",
       "    features: ['inputs', 'lengths'],\n",
       "    num_rows: 499799\n",
       "})"
      ]
     },
     "execution_count": 8,
     "metadata": {},
     "output_type": "execute_result"
    }
   ],
   "source": [
    "def create_inputs(examples):\n",
    "    # Формируем входной текст\n",
    "    inputs = [\n",
    "        f\"Аddress: {address}\\nName: {name}\\nRating: {rating}\\nKeywords: {rubrics}\\nReview: {text}{tokenizer.eos_token}\"\n",
    "        for address, name, rating, rubrics, text in zip(\n",
    "            examples[\"address\"],\n",
    "            examples[\"name_ru\"],\n",
    "            examples[\"rating\"],\n",
    "            examples[\"rubrics\"],\n",
    "            examples[\"text\"],\n",
    "        )\n",
    "    ]\n",
    "    # Длины токенизированных текстов\n",
    "    lengths = [len(tokenizer.tokenize(input)) for input in inputs]\n",
    "    return {\"inputs\": inputs, \"lengths\": lengths}\n",
    "\n",
    "\n",
    "dataset = dataset.map(create_inputs, batched=True, remove_columns=dataset.column_names)\n",
    "dataset"
   ]
  },
  {
   "cell_type": "markdown",
   "metadata": {},
   "source": [
    "## Анализ длин токенизированных текстов"
   ]
  },
  {
   "cell_type": "markdown",
   "metadata": {},
   "source": [
    "Проведём анализ количества токенов в векторизованных текстах. Эта информация нужна нам для выбора оптимальной длины, к которой мы будем приводить все тексты в батчах данных."
   ]
  },
  {
   "cell_type": "code",
   "execution_count": 9,
   "metadata": {},
   "outputs": [
    {
     "data": {
      "image/png": "[encoded data removed]",
      "text/plain": [
       "<Figure size 1500x500 with 1 Axes>"
      ]
     },
     "metadata": {},
     "output_type": "display_data"
    }
   ],
   "source": [
    "plt.figure(figsize=(15, 5))\n",
    "sns.histplot(x=dataset[\"lengths\"], kde=True)\n",
    "plt.xlabel(\"Длина\")\n",
    "plt.ylabel(\"Количество\")\n",
    "plt.show()"
   ]
  },
  {
   "cell_type": "code",
   "execution_count": 10,
   "metadata": {},
   "outputs": [
    {
     "data": {
      "text/plain": [
       "np.float64(274.0)"
      ]
     },
     "execution_count": 10,
     "metadata": {},
     "output_type": "execute_result"
    }
   ],
   "source": [
    "np.quantile(dataset[\"lengths\"], 0.95)"
   ]
  },
  {
   "cell_type": "markdown",
   "metadata": {},
   "source": [
    "Выводы:\n",
    "\n",
    "* 95% всех токенизированных текстов имеют длину 274 и меньше.\n",
    "* Для обучения финальной версии модели можно будет взять длину 256 токенов.\n",
    "* В данном ноутбуке, мы ограничимся длиной 128 токенов, т.к. есть ограниечения в размере GPU памяти и вычислительной мощности."
   ]
  },
  {
   "cell_type": "markdown",
   "metadata": {},
   "source": [
    "## Векторизация данных"
   ]
  },
  {
   "cell_type": "code",
   "execution_count": 11,
   "metadata": {},
   "outputs": [
    {
     "data": {
      "application/vnd.jupyter.widget-view+json": {
       "model_id": "9b3601c230f848149013b4cbc8e42bfb",
       "version_major": 2,
       "version_minor": 0
      },
      "text/plain": [
       "Map:   0%|          | 0/499799 [00:00<?, ? examples/s]"
      ]
     },
     "metadata": {},
     "output_type": "display_data"
    },
    {
     "data": {
      "text/plain": [
       "Dataset({\n",
       "    features: ['input_ids', 'attention_mask'],\n",
       "    num_rows: 499799\n",
       "})"
      ]
     },
     "execution_count": 11,
     "metadata": {},
     "output_type": "execute_result"
    }
   ],
   "source": [
    "MAX_LENGTH = 128\n",
    "\n",
    "\n",
    "def tokenize_text(examples):\n",
    "    # Векторизуем входной текст и приводим его к выбранной длине\n",
    "    return tokenizer(\n",
    "        examples[\"inputs\"], max_length=MAX_LENGTH, padding=\"max_length\", truncation=True\n",
    "    )\n",
    "\n",
    "\n",
    "tokenized_dataset = dataset.map(tokenize_text, batched=True, remove_columns=dataset.column_names)\n",
    "tokenized_dataset"
   ]
  },
  {
   "cell_type": "markdown",
   "metadata": {},
   "source": [
    "## Разделение данных"
   ]
  },
  {
   "cell_type": "markdown",
   "metadata": {},
   "source": [
    "Возьмём только подвыборку из первых 10000 строк. Это уменьшит скорость обучения в 50 раз и позволит проверить гипотезы, подобрать гиперпараметры, проверить генерацию ответов моделью. Обучение же модели на всех данных может занять сутки и более на GPU уровня T4."
   ]
  },
  {
   "cell_type": "code",
   "execution_count": 12,
   "metadata": {},
   "outputs": [
    {
     "data": {
      "text/plain": [
       "Dataset({\n",
       "    features: ['input_ids', 'attention_mask'],\n",
       "    num_rows: 10000\n",
       "})"
      ]
     },
     "execution_count": 12,
     "metadata": {},
     "output_type": "execute_result"
    }
   ],
   "source": [
    "dataset_slice = tokenized_dataset.take(10000)\n",
    "dataset_slice"
   ]
  },
  {
   "cell_type": "markdown",
   "metadata": {},
   "source": [
    "Разделение на тренировочную и оценочную подвыборки."
   ]
  },
  {
   "cell_type": "code",
   "execution_count": 13,
   "metadata": {},
   "outputs": [
    {
     "data": {
      "text/plain": [
       "DatasetDict({\n",
       "    train: Dataset({\n",
       "        features: ['input_ids', 'attention_mask'],\n",
       "        num_rows: 9000\n",
       "    })\n",
       "    test: Dataset({\n",
       "        features: ['input_ids', 'attention_mask'],\n",
       "        num_rows: 1000\n",
       "    })\n",
       "})"
      ]
     },
     "execution_count": 13,
     "metadata": {},
     "output_type": "execute_result"
    }
   ],
   "source": [
    "dataset_split = dataset_slice.train_test_split(test_size=0.1, shuffle=True, seed=SEED)\n",
    "dataset_split"
   ]
  },
  {
   "cell_type": "markdown",
   "metadata": {},
   "source": [
    "## Логирование MLFlow"
   ]
  },
  {
   "cell_type": "markdown",
   "metadata": {},
   "source": [
    "* В проекте мы будем использовать инструмент `MLFlow` для логирования гиперпараметров, метрик и артефактов обучения.\n",
    "* Библиотека `transformers` и платформа `MLFlow` имеют интеграцию, которую легко подключить."
   ]
  },
  {
   "cell_type": "code",
   "execution_count": 14,
   "metadata": {},
   "outputs": [
    {
     "data": {
      "text/plain": [
       "<Experiment: artifact_location='file:c:/Users/nymle/dev/repos/Project-3/notebooks/../mlruns/504564538381172679', creation_time=1734046167078, experiment_id='504564538381172679', last_update_time=1734046167078, lifecycle_stage='active', name='Gemma-2-2b-LoRA-Finetuning', tags={}>"
      ]
     },
     "execution_count": 14,
     "metadata": {},
     "output_type": "execute_result"
    }
   ],
   "source": [
    "MLFLOW_EXPERIMENT = \"Gemma-2-2b-LoRA-Finetuning\"\n",
    "\n",
    "# Инициализация MLflow\n",
    "mlflow.set_tracking_uri(\"../mlruns\")  # Директория для логов в корне проекта\n",
    "mlflow.set_experiment(MLFLOW_EXPERIMENT)  # Название эксперимента MLFlow"
   ]
  },
  {
   "cell_type": "markdown",
   "metadata": {},
   "source": [
    "## Гиперпараметры обучения"
   ]
  },
  {
   "cell_type": "code",
   "execution_count": 15,
   "metadata": {},
   "outputs": [
    {
     "name": "stdout",
     "output_type": "stream",
     "text": [
      "Всего шагов обучения: 11250\n"
     ]
    }
   ],
   "source": [
    "BATCH_SIZE = 4\n",
    "GRAD_ACCUM = 1\n",
    "N_EPOCHS = 5\n",
    "LEARNING_RATE = 5e-4\n",
    "WEIGHT_DECAY = 0.01\n",
    "\n",
    "n_steps = int(round(N_EPOCHS * len(dataset_split[\"train\"]) / BATCH_SIZE / GRAD_ACCUM, 0))\n",
    "print(\"Всего шагов обучения:\", n_steps)"
   ]
  },
  {
   "cell_type": "code",
   "execution_count": 16,
   "metadata": {},
   "outputs": [],
   "source": [
    "HUB_MODEL_ID = \"nymless/gemma-2-2b-lora-finetuned\"\n",
    "\n",
    "training_args = TrainingArguments(\n",
    "    # Включаем логирование в MLFlow\n",
    "    report_to=\"mlflow\",\n",
    "    logging_steps=500,  # Через сколько шагов логировать\n",
    "    # Генерация имени MLFlow Run с текущим временем и датой\n",
    "    run_name=f\"{MLFLOW_EXPERIMENT}-{datetime.now().strftime('%d.%m.%Y, %H:%M:%S')}\",\n",
    "    # Директория сохранения модели\n",
    "    output_dir=\"../models/gemma-2-2b-lora-finetuned\",\n",
    "    # Параметры оценки и сохранения модели\n",
    "    overwrite_output_dir=True,  # Перезапись директории при каждом запуске обучения\n",
    "    save_strategy=\"epoch\",  # Сохраняем модель в конце каждой эпохи\n",
    "    load_best_model_at_end=True,  # Сохраняем лучшую по метрике модель в конце обучения\n",
    "    metric_for_best_model=\"loss\",  # Метрика для оценки модели\n",
    "    save_total_limit=1,  # Сохранить только одну модель\n",
    "    eval_strategy=\"epoch\",  # Оценивать модель в конце каждой эпохи\n",
    "    # Гиперпараметры\n",
    "    learning_rate=LEARNING_RATE,  # Скорость обучения\n",
    "    lr_scheduler_type=\"cosine\",  # Cнижение по косинусоиде\n",
    "    per_device_train_batch_size=BATCH_SIZE,  # Размер батча данных на этапе обучения\n",
    "    per_device_eval_batch_size=BATCH_SIZE,  # Размер батча данных на этапе оценивания\n",
    "    gradient_accumulation_steps=GRAD_ACCUM,  # Накапливать градиенты N шагов и подстроить веса\n",
    "    num_train_epochs=N_EPOCHS,  # Количество эпох\n",
    "    weight_decay=WEIGHT_DECAY,  # Коэффициент регуляризации\n",
    "    fp16=True,  # Использовать формат чисел FP16 (Floating point 16-bit)\n",
    "    # Работа с Hugging Face Hub (Отключено)\n",
    "    push_to_hub=False,  # Сохранение модели в Hub со стандартным commit_message\n",
    "    hub_model_id=HUB_MODEL_ID,  # Название модели в Hub\n",
    "    hub_strategy=\"end\",  # Загружать модель в Hub в конце обучения\n",
    "    hub_token=token,  # Токен Hugging Face\n",
    ")"
   ]
  },
  {
   "cell_type": "markdown",
   "metadata": {},
   "source": [
    "Примечание:\n",
    "\n",
    "* Мы оключили автоматическое сохранение модели в `Hugging Face Hub`. Сохраним модель вручную в конце ноутбука."
   ]
  },
  {
   "cell_type": "code",
   "execution_count": 17,
   "metadata": {},
   "outputs": [],
   "source": [
    "# Объект, который извлекает данные батчами для обучения\n",
    "data_collator = DataCollatorForLanguageModeling(\n",
    "    tokenizer=tokenizer,\n",
    "    mlm=False,  # Отключаем режим маскирования текста MLM (Masked language modeling)\n",
    ")"
   ]
  },
  {
   "cell_type": "markdown",
   "metadata": {},
   "source": [
    "Настроим раннюю остановку обучения если не будет улучшения метрики `eval_loss` хотя бы на `0,01` в течении `2` эпох."
   ]
  },
  {
   "cell_type": "code",
   "execution_count": 18,
   "metadata": {},
   "outputs": [],
   "source": [
    "# Объект, который управляет ранней остановкой обучения\n",
    "early_topping_callback = EarlyStoppingCallback(\n",
    "    early_stopping_patience=2, early_stopping_threshold=0.01\n",
    ")"
   ]
  },
  {
   "cell_type": "code",
   "execution_count": 19,
   "metadata": {},
   "outputs": [],
   "source": [
    "trainer = Trainer(\n",
    "    model=model,\n",
    "    args=training_args,\n",
    "    train_dataset=dataset_split[\"train\"],\n",
    "    eval_dataset=dataset_split[\"test\"],\n",
    "    processing_class=tokenizer,\n",
    "    data_collator=data_collator,\n",
    "    callbacks=[early_topping_callback]\n",
    ")"
   ]
  },
  {
   "cell_type": "markdown",
   "metadata": {},
   "source": [
    "## Обучение модели"
   ]
  },
  {
   "cell_type": "code",
   "execution_count": 20,
   "metadata": {},
   "outputs": [
    {
     "data": {
      "application/vnd.jupyter.widget-view+json": {
       "model_id": "e9c9e6edf84d47eaba04b80a2052d16d",
       "version_major": 2,
       "version_minor": 0
      },
      "text/plain": [
       "  0%|          | 0/11250 [00:00<?, ?it/s]"
      ]
     },
     "metadata": {},
     "output_type": "display_data"
    },
    {
     "name": "stdout",
     "output_type": "stream",
     "text": [
      "{'loss': 2.0349, 'grad_norm': 0.7744771838188171, 'learning_rate': 0.0004975767236477413, 'epoch': 0.22}\n",
      "{'loss': 1.9722, 'grad_norm': 0.8409476280212402, 'learning_rate': 0.0004903346577317858, 'epoch': 0.44}\n",
      "{'loss': 1.9466, 'grad_norm': 0.7943012714385986, 'learning_rate': 0.0004784147510797024, 'epoch': 0.67}\n",
      "{'loss': 1.9114, 'grad_norm': 0.7924661040306091, 'learning_rate': 0.000462049011115781, 'epoch': 0.89}\n"
     ]
    },
    {
     "name": "stderr",
     "output_type": "stream",
     "text": [
      "The 'batch_size' argument of HybridCache is deprecated and will be removed in v4.49. Use the more precisely named 'max_batch_size' argument instead.\n",
      "The 'batch_size' attribute of HybridCache is deprecated and will be removed in v4.49. Use the more precisely named 'self.max_batch_size' attribute instead.\n"
     ]
    },
    {
     "data": {
      "application/vnd.jupyter.widget-view+json": {
       "model_id": "5c89c0a883a1495d920271872f12dd11",
       "version_major": 2,
       "version_minor": 0
      },
      "text/plain": [
       "  0%|          | 0/250 [00:00<?, ?it/s]"
      ]
     },
     "metadata": {},
     "output_type": "display_data"
    },
    {
     "name": "stdout",
     "output_type": "stream",
     "text": [
      "{'eval_loss': 1.9194800853729248, 'eval_runtime': 34.2026, 'eval_samples_per_second': 29.238, 'eval_steps_per_second': 7.309, 'epoch': 1.0}\n",
      "{'loss': 1.8532, 'grad_norm': 0.8687607049942017, 'learning_rate': 0.00044160083098765813, 'epoch': 1.11}\n",
      "{'loss': 1.839, 'grad_norm': 0.7698619365692139, 'learning_rate': 0.0004173863880864194, 'epoch': 1.33}\n",
      "{'loss': 1.8373, 'grad_norm': 1.0663352012634277, 'learning_rate': 0.00038991395954027285, 'epoch': 1.56}\n",
      "{'loss': 1.8311, 'grad_norm': 0.8138015270233154, 'learning_rate': 0.00035971826492144505, 'epoch': 1.78}\n",
      "{'loss': 1.8064, 'grad_norm': 0.9945358633995056, 'learning_rate': 0.00032745341027141716, 'epoch': 2.0}\n"
     ]
    },
    {
     "data": {
      "application/vnd.jupyter.widget-view+json": {
       "model_id": "f93ce6e4f8ad4acfbb5d45729a046096",
       "version_major": 2,
       "version_minor": 0
      },
      "text/plain": [
       "  0%|          | 0/250 [00:00<?, ?it/s]"
      ]
     },
     "metadata": {},
     "output_type": "display_data"
    },
    {
     "name": "stdout",
     "output_type": "stream",
     "text": [
      "{'eval_loss': 1.877261757850647, 'eval_runtime': 34.0561, 'eval_samples_per_second': 29.363, 'eval_steps_per_second': 7.341, 'epoch': 2.0}\n",
      "{'loss': 1.7468, 'grad_norm': 1.0055190324783325, 'learning_rate': 0.0002936182868119549, 'epoch': 2.22}\n",
      "{'loss': 1.7295, 'grad_norm': 0.9167793989181519, 'learning_rate': 0.0002589341830147636, 'epoch': 2.44}\n",
      "{'loss': 1.7292, 'grad_norm': 1.0301669836044312, 'learning_rate': 0.00022407618550767267, 'epoch': 2.67}\n",
      "{'loss': 1.724, 'grad_norm': 1.0922505855560303, 'learning_rate': 0.000189722765561773, 'epoch': 2.89}\n"
     ]
    },
    {
     "data": {
      "application/vnd.jupyter.widget-view+json": {
       "model_id": "76a47f99cc444ef0ba453ef72c43e468",
       "version_major": 2,
       "version_minor": 0
      },
      "text/plain": [
       "  0%|          | 0/250 [00:00<?, ?it/s]"
      ]
     },
     "metadata": {},
     "output_type": "display_data"
    },
    {
     "name": "stdout",
     "output_type": "stream",
     "text": [
      "{'eval_loss': 1.8603359460830688, 'eval_runtime': 33.9913, 'eval_samples_per_second': 29.419, 'eval_steps_per_second': 7.355, 'epoch': 3.0}\n",
      "{'loss': 1.6775, 'grad_norm': 1.3072201013565063, 'learning_rate': 0.00015667209105087133, 'epoch': 3.11}\n",
      "{'loss': 1.6553, 'grad_norm': 1.4674419164657593, 'learning_rate': 0.00012530242164276233, 'epoch': 3.33}\n",
      "{'loss': 1.6615, 'grad_norm': 1.2614058256149292, 'learning_rate': 9.635984875598389e-05, 'epoch': 3.56}\n",
      "{'loss': 1.655, 'grad_norm': 1.7667028903961182, 'learning_rate': 7.040770665008852e-05, 'epoch': 3.78}\n",
      "{'loss': 1.639, 'grad_norm': 1.4429086446762085, 'learning_rate': 4.7951124251043226e-05, 'epoch': 4.0}\n"
     ]
    },
    {
     "data": {
      "application/vnd.jupyter.widget-view+json": {
       "model_id": "61a163bb307243ab80b57c6376e2ad8a",
       "version_major": 2,
       "version_minor": 0
      },
      "text/plain": [
       "  0%|          | 0/250 [00:00<?, ?it/s]"
      ]
     },
     "metadata": {},
     "output_type": "display_data"
    },
    {
     "name": "stdout",
     "output_type": "stream",
     "text": [
      "{'eval_loss': 1.8611871004104614, 'eval_runtime': 34.2318, 'eval_samples_per_second': 29.213, 'eval_steps_per_second': 7.303, 'epoch': 4.0}\n",
      "{'loss': 1.6119, 'grad_norm': 1.5476133823394775, 'learning_rate': 2.9460063324868917e-05, 'epoch': 4.22}\n",
      "{'loss': 1.6177, 'grad_norm': 1.236956238746643, 'learning_rate': 1.522043955527963e-05, 'epoch': 4.44}\n",
      "{'loss': 1.5993, 'grad_norm': 1.0764669179916382, 'learning_rate': 5.550532871955061e-06, 'epoch': 4.67}\n",
      "{'loss': 1.5924, 'grad_norm': 1.1854642629623413, 'learning_rate': 6.385570091303194e-07, 'epoch': 4.89}\n"
     ]
    },
    {
     "data": {
      "application/vnd.jupyter.widget-view+json": {
       "model_id": "b08a9ebe730f4f50b614c943405299d1",
       "version_major": 2,
       "version_minor": 0
      },
      "text/plain": [
       "  0%|          | 0/250 [00:00<?, ?it/s]"
      ]
     },
     "metadata": {},
     "output_type": "display_data"
    },
    {
     "name": "stdout",
     "output_type": "stream",
     "text": [
      "{'eval_loss': 1.869433879852295, 'eval_runtime': 34.114, 'eval_samples_per_second': 29.314, 'eval_steps_per_second': 7.328, 'epoch': 5.0}\n",
      "{'train_runtime': 3560.1967, 'train_samples_per_second': 12.64, 'train_steps_per_second': 3.16, 'train_loss': 1.7544795030381946, 'epoch': 5.0}\n"
     ]
    },
    {
     "data": {
      "text/plain": [
       "TrainOutput(global_step=11250, training_loss=1.7544795030381946, metrics={'train_runtime': 3560.1967, 'train_samples_per_second': 12.64, 'train_steps_per_second': 3.16, 'total_flos': 7.000874385408e+16, 'train_loss': 1.7544795030381946, 'epoch': 5.0})"
      ]
     },
     "execution_count": 20,
     "metadata": {},
     "output_type": "execute_result"
    }
   ],
   "source": [
    "trainer.train(\n",
    "    resume_from_checkpoint=False, # Продолжить обучение с выбранного (или последнего) чекпоинта\n",
    ")"
   ]
  },
  {
   "cell_type": "markdown",
   "metadata": {},
   "source": [
    "## Подбор гиперпараметров"
   ]
  },
  {
   "cell_type": "markdown",
   "metadata": {},
   "source": [
    "* К сожалению, в подборе гиперпараметров мы ограничены только количеством эпох (`n_epochs`), скоростью обучения (`learning_rate`) и настройками планировщика скорости обучения (`lr_sheduler`).\n",
    "* При увеличении размера батча (`batch_size`), длины токенизированного текста (`max_length`), или размера LoRA матриц (`lora_rank`), начинаются проблемы с нехваткой GPU памяти.\n",
    "* Все пуски обучения производились со сбросом параметров модели к начальным значениям."
   ]
  },
  {
   "cell_type": "markdown",
   "metadata": {},
   "source": [
    "**Таблица параметров и метрик**\n",
    "\n",
    "| № пуска | n_epochs | learning_rate | lr_sheduler | power | loss  | eval_loss | Лучшая эпоха | Ранняя остановка |\n",
    "|---------|----------|---------------|-------------|-------|-------|-----------|--------------|------------------|\n",
    "| 1       | 6        | 0.00002       | linear      | -     | 1.931 | 1.975     | 5            | 5                |\n",
    "| 2       | 6        | 0.0005        | linear      | -     | 1.689 | 1.863     | 3            | 5                |\n",
    "| 3       | 6        | 0.0005        | polynomial  | 0.4   | 1.697 | 1.870     | 3            | 5                |\n",
    "| 4       | 5        | 0.0005        | cosine      | -     | 1.677 | 1.860     | 3            | -                |"
   ]
  },
  {
   "cell_type": "markdown",
   "metadata": {},
   "source": [
    "**Обучение № 1**\n",
    "\n",
    "* Модель не успела дообучиться из-за низкой начальной скорости обучения и её дальнейшего линейного снижения.\n",
    "* Метрика `eval_loss` улучшалась слишком медленно, что привело к ранней остановке.\n"
   ]
  },
  {
   "cell_type": "markdown",
   "metadata": {},
   "source": [
    "**Обучение № 2**\n",
    "\n",
    "* Увеличили скоросто обучения `learning_rate = 0.0005`.\n",
    "* На 3 эпохе была достигнута метрика качества `eval_loss = 1.863`. Модель обучилась лучше."
   ]
  },
  {
   "cell_type": "markdown",
   "metadata": {},
   "source": [
    "**Обучение № 3**\n",
    "\n",
    "* Планировщик обучения заменили на полиномиальный `polynomial` со степенью полинома `power = 0.4`. Это позволило замедлить снижение скорости в начале обучения и затем, ускорить в конце.\n",
    "* На 3 эпохе была достигнута метрика качества `eval_loss = 1.870`. Улучшение метрики достигнуто не было."
   ]
  },
  {
   "cell_type": "markdown",
   "metadata": {},
   "source": [
    "**Обучение № 4**\n",
    "\n",
    "* Установили количество эпох `n_epochs = 5`.\n",
    "* Планировщик обучения заменили на косинусный `cosine`. Это позволило получить медленное снижение в начале обучения, затем в середине плавно ускорить и в конце снова плавно замедлить.\n",
    "* На 3 эпохе была достигнута метрика качества `eval_loss = 1.860`. Это лучший результат."
   ]
  },
  {
   "cell_type": "markdown",
   "metadata": {},
   "source": [
    "## Интерфейс MLFlow UI"
   ]
  },
  {
   "cell_type": "markdown",
   "metadata": {},
   "source": [
    "Ниже показаны скриншоты интерфейса `MLFlow` по визуализиции логирования обучения. На них можно увидеть результаты экспериментов обучения модели с разными гиперпараметрами, их метрики и сравнительные графики. Все логи сохраняются в корне проекта в директории mlruns."
   ]
  },
  {
   "cell_type": "markdown",
   "metadata": {},
   "source": [
    "![alt text](<../resources/mlflow/Screenshot 2024-12-14 162736.png>)"
   ]
  },
  {
   "cell_type": "markdown",
   "metadata": {},
   "source": [
    "![alt text](<../resources/mlflow/Screenshot 2024-12-14 162952.png>)"
   ]
  },
  {
   "cell_type": "markdown",
   "metadata": {},
   "source": [
    "## Проверка генерации текста"
   ]
  },
  {
   "cell_type": "markdown",
   "metadata": {},
   "source": [
    "Создадим запрос (prompt) из данных на которых модель не обучалась."
   ]
  },
  {
   "cell_type": "code",
   "execution_count": 21,
   "metadata": {},
   "outputs": [
    {
     "name": "stdout",
     "output_type": "stream",
     "text": [
      "Аddress: Иркутск, проспект Маршала Жукова, 5/4\n",
      "Name: Cheese Pizza\n",
      "Rating: 5\n",
      "Keywords: Пиццерия;Быстрое питание;Доставка еды и обедов\n",
      "Review: Всё отлично, большой выбор вкусных сыров, хорошее масло сливочное, да и пицца огонь.\n",
      "\n"
     ]
    }
   ],
   "source": [
    "# Возьмём векторизованный текст из тестового датасета\n",
    "vectorized_text = dataset_split[\"test\"][0][\"input_ids\"]\n",
    "# Декодируем из вектора обратно в текст\n",
    "text = tokenizer.decode(vectorized_text, skip_special_tokens=True)\n",
    "# Разделим текст на запрос и эталонный ответ\n",
    "prompt, text = text.split(\"Review: \")\n",
    "prompt = prompt + \"Review: \"\n",
    "print(prompt, text, sep=\"\")"
   ]
  },
  {
   "cell_type": "code",
   "execution_count": 29,
   "metadata": {},
   "outputs": [
    {
     "name": "stdout",
     "output_type": "stream",
     "text": [
      "Аddress: Иркутск, проспект Маршала Жукова, 5/4\n",
      "Name: Cheese Pizza\n",
      "Rating: 5\n",
      "Keywords: Пиццерия;Быстрое питание;Доставка еды и обедов\n",
      "Review: 10 баллов, пицца очень вкусная, сытная, быстрое обслуживание, спасибо большое.\n",
      "\n"
     ]
    }
   ],
   "source": [
    "# Параметры генерации текста\n",
    "generation_config = {\n",
    "    \"max_length\": 256,\n",
    "    \"pad_token_id\": tokenizer.eos_token_id,\n",
    "    \"eos_token_id\": tokenizer.eos_token_id,\n",
    "    \"do_sample\": True,\n",
    "    \"num_beams\": 1,\n",
    "    \"temperature\": 0.95,\n",
    "    \"top_k\": 10,\n",
    "    \"top_p\": 0.95,\n",
    "}\n",
    "\n",
    "# Векторизация текста\n",
    "inputs = tokenizer(prompt, return_tensors=\"pt\").to(device)\n",
    "# Генерация текста\n",
    "outputs = model.generate(**inputs, **generation_config)\n",
    "print(tokenizer.decode(outputs[0], skip_special_tokens=True))"
   ]
  },
  {
   "cell_type": "markdown",
   "metadata": {},
   "source": [
    "Выводы:\n",
    "\n",
    "* Сгененрированный текст достаточно качественный. Возможны небольшие грамматические ошибки.\n",
    "* Сгененрированный текст не совпадает с истинным, но они и не должны совпадать. Мы использовали для генерации запрос, который модель раньше не видела. Поэтому возможно огромное количество генераций текстов, и все из них правильные, с точки зрения модели.\n",
    "* Если бы мы использовали для генерации уже известный модели запрос, то мы проверяли бы лишь степень переобученности модели, а не её обобщающую способность."
   ]
  },
  {
   "cell_type": "markdown",
   "metadata": {},
   "source": [
    "## Сохранение модели"
   ]
  },
  {
   "cell_type": "markdown",
   "metadata": {},
   "source": [
    "Сохранить модель в предварительно созданный репозиторий <https://huggingface.co/nymless/gemma-2-2b-lora-finetuned>.\n",
    "\n",
    "* Сохраняются только LoRA матрицы.\n",
    "* Базовую `Gemma-2-2b` модель нужно загружать с её репозитория и объединять с LoRA в единую модель."
   ]
  },
  {
   "cell_type": "code",
   "execution_count": 30,
   "metadata": {},
   "outputs": [
    {
     "data": {
      "application/vnd.jupyter.widget-view+json": {
       "model_id": "30e9d28955234957b5f8125c2878a512",
       "version_major": 2,
       "version_minor": 0
      },
      "text/plain": [
       "Upload 2 LFS files:   0%|          | 0/2 [00:00<?, ?it/s]"
      ]
     },
     "metadata": {},
     "output_type": "display_data"
    },
    {
     "data": {
      "application/vnd.jupyter.widget-view+json": {
       "model_id": "f1a7f7bfad9a421998ecfab8aa25a05d",
       "version_major": 2,
       "version_minor": 0
      },
      "text/plain": [
       "adapter_model.safetensors:   0%|          | 0.00/4.81M [00:00<?, ?B/s]"
      ]
     },
     "metadata": {},
     "output_type": "display_data"
    },
    {
     "data": {
      "application/vnd.jupyter.widget-view+json": {
       "model_id": "657d1d2f18e941f3bb096ac95e679b49",
       "version_major": 2,
       "version_minor": 0
      },
      "text/plain": [
       "training_args.bin:   0%|          | 0.00/5.50k [00:00<?, ?B/s]"
      ]
     },
     "metadata": {},
     "output_type": "display_data"
    },
    {
     "data": {
      "text/plain": [
       "CommitInfo(commit_url='https://huggingface.co/nymless/gemma-2-2b-lora-finetuned/commit/c238f0b6450a48428888bbf220c878146dbc759a', commit_message='Train with cosine lr sheduler', commit_description='', oid='c238f0b6450a48428888bbf220c878146dbc759a', pr_url=None, repo_url=RepoUrl('https://huggingface.co/nymless/gemma-2-2b-lora-finetuned', endpoint='https://huggingface.co', repo_type='model', repo_id='nymless/gemma-2-2b-lora-finetuned'), pr_revision=None, pr_num=None)"
      ]
     },
     "execution_count": 30,
     "metadata": {},
     "output_type": "execute_result"
    }
   ],
   "source": [
    "# trainer.push_to_hub(\"Train with cosine lr sheduler\")"
   ]
  },
  {
   "cell_type": "markdown",
   "metadata": {},
   "source": [
    "## Загрузка модели"
   ]
  },
  {
   "cell_type": "markdown",
   "metadata": {},
   "source": [
    "Загрузить дообученную модель с `Hugging Face Hub`, для инференса, или изменения.\n",
    "\n",
    "* Используем класс `AutoPeftModelForCausalLM`, который автоматически скачает LoRA и базовую модели, и объединит их в единую дообученную модель."
   ]
  },
  {
   "cell_type": "code",
   "execution_count": 32,
   "metadata": {},
   "outputs": [
    {
     "data": {
      "application/vnd.jupyter.widget-view+json": {
       "model_id": "2a39c86409d04847a2d71a6eeb0b4bae",
       "version_major": 2,
       "version_minor": 0
      },
      "text/plain": [
       "Loading checkpoint shards:   0%|          | 0/3 [00:00<?, ?it/s]"
      ]
     },
     "metadata": {},
     "output_type": "display_data"
    },
    {
     "data": {
      "text/plain": [
       "PeftModelForCausalLM(\n",
       "  (base_model): LoraModel(\n",
       "    (model): Gemma2ForCausalLM(\n",
       "      (model): Gemma2Model(\n",
       "        (embed_tokens): Embedding(256000, 2304, padding_idx=0)\n",
       "        (layers): ModuleList(\n",
       "          (0-25): 26 x Gemma2DecoderLayer(\n",
       "            (self_attn): Gemma2Attention(\n",
       "              (q_proj): lora.Linear(\n",
       "                (base_layer): Linear(in_features=2304, out_features=2048, bias=False)\n",
       "                (lora_dropout): ModuleDict(\n",
       "                  (default): Dropout(p=0.1, inplace=False)\n",
       "                )\n",
       "                (lora_A): ModuleDict(\n",
       "                  (default): Linear(in_features=2304, out_features=6, bias=False)\n",
       "                )\n",
       "                (lora_B): ModuleDict(\n",
       "                  (default): Linear(in_features=6, out_features=2048, bias=False)\n",
       "                )\n",
       "                (lora_embedding_A): ParameterDict()\n",
       "                (lora_embedding_B): ParameterDict()\n",
       "                (lora_magnitude_vector): ModuleDict()\n",
       "              )\n",
       "              (k_proj): Linear(in_features=2304, out_features=1024, bias=False)\n",
       "              (v_proj): lora.Linear(\n",
       "                (base_layer): Linear(in_features=2304, out_features=1024, bias=False)\n",
       "                (lora_dropout): ModuleDict(\n",
       "                  (default): Dropout(p=0.1, inplace=False)\n",
       "                )\n",
       "                (lora_A): ModuleDict(\n",
       "                  (default): Linear(in_features=2304, out_features=6, bias=False)\n",
       "                )\n",
       "                (lora_B): ModuleDict(\n",
       "                  (default): Linear(in_features=6, out_features=1024, bias=False)\n",
       "                )\n",
       "                (lora_embedding_A): ParameterDict()\n",
       "                (lora_embedding_B): ParameterDict()\n",
       "                (lora_magnitude_vector): ModuleDict()\n",
       "              )\n",
       "              (o_proj): Linear(in_features=2048, out_features=2304, bias=False)\n",
       "              (rotary_emb): Gemma2RotaryEmbedding()\n",
       "            )\n",
       "            (mlp): Gemma2MLP(\n",
       "              (gate_proj): Linear(in_features=2304, out_features=9216, bias=False)\n",
       "              (up_proj): Linear(in_features=2304, out_features=9216, bias=False)\n",
       "              (down_proj): Linear(in_features=9216, out_features=2304, bias=False)\n",
       "              (act_fn): PytorchGELUTanh()\n",
       "            )\n",
       "            (input_layernorm): Gemma2RMSNorm((2304,), eps=1e-06)\n",
       "            (post_attention_layernorm): Gemma2RMSNorm((2304,), eps=1e-06)\n",
       "            (pre_feedforward_layernorm): Gemma2RMSNorm((2304,), eps=1e-06)\n",
       "            (post_feedforward_layernorm): Gemma2RMSNorm((2304,), eps=1e-06)\n",
       "          )\n",
       "        )\n",
       "        (norm): Gemma2RMSNorm((2304,), eps=1e-06)\n",
       "      )\n",
       "      (lm_head): Linear(in_features=2304, out_features=256000, bias=False)\n",
       "    )\n",
       "  )\n",
       ")"
      ]
     },
     "execution_count": 32,
     "metadata": {},
     "output_type": "execute_result"
    }
   ],
   "source": [
    "from peft import AutoPeftModelForCausalLM\n",
    "\n",
    "model_name = \"google/gemma-2-2b\"\n",
    "lora_finetuned = \"nymless/gemma-2-2b-lora-finetuned\"\n",
    "\n",
    "tokenizer = AutoTokenizer.from_pretrained(model_name, token=token)\n",
    "model = AutoPeftModelForCausalLM.from_pretrained(\n",
    "    lora_finetuned,\n",
    "    token=token,\n",
    ")\n",
    "model = model.to(device)\n",
    "model.eval()  # Для инференса нужно включить режим evaluation"
   ]
  }
 ],
 "metadata": {
  "kernelspec": {
   "display_name": "project-3",
   "language": "python",
   "name": "python3"
  },
  "language_info": {
   "codemirror_mode": {
    "name": "ipython",
    "version": 3
   },
   "file_extension": ".py",
   "mimetype": "text/x-python",
   "name": "python",
   "nbconvert_exporter": "python",
   "pygments_lexer": "ipython3",
   "version": "3.12.7"
  }
 },
 "nbformat": 4,
 "nbformat_minor": 2
}
